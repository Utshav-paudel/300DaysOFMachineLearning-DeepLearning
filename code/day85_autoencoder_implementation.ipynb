{
  "nbformat": 4,
  "nbformat_minor": 0,
  "metadata": {
    "colab": {
      "provenance": []
    },
    "kernelspec": {
      "name": "python3",
      "display_name": "Python 3"
    },
    "language_info": {
      "name": "python"
    }
  },
  "cells": [
    {
      "cell_type": "markdown",
      "source": [
        "# Auto Encoders\n",
        "Auto encoders are artificial neural networks capable of learning dense representations of the input data, called latent representations without any supervision.\n"
      ],
      "metadata": {
        "id": "_RcvWpreSkfq"
      }
    },
    {
      "cell_type": "code",
      "source": [
        "#@ Importing mnist datasets\n",
        "import tensorflow as tf\n",
        "fashion_mnist = tf.keras.datasets.fashion_mnist.load_data()\n",
        "(X_train_full, y_train_full),(X_test,y_test) = fashion_mnist\n",
        "X_train, y_train = X_train_full[:-5000], y_train_full[:-5000]\n",
        "X_valid, y_valid = X_train_full[-5000:], y_train_full[-5000:]"
      ],
      "metadata": {
        "id": "v0ICkE9WVRbg"
      },
      "execution_count": 2,
      "outputs": []
    },
    {
      "cell_type": "code",
      "source": [
        "#@ Normalizing datasets\n",
        "X_train, X_valid , X_test = X_train/255. , X_valid/255. , X_test/255."
      ],
      "metadata": {
        "id": "2RcwYILbVeSe"
      },
      "execution_count": 3,
      "outputs": []
    },
    {
      "cell_type": "code",
      "execution_count": 8,
      "metadata": {
        "colab": {
          "base_uri": "https://localhost:8080/"
        },
        "id": "OPK4R5R5Sc3e",
        "outputId": "eb4185e8-81ab-4ddc-b554-9bfe42cf9cc6"
      },
      "outputs": [
        {
          "output_type": "stream",
          "name": "stdout",
          "text": [
            "Epoch 1/20\n",
            "1719/1719 [==============================] - 21s 8ms/step - loss: 0.0235 - val_loss: 0.0180\n",
            "Epoch 2/20\n",
            "1719/1719 [==============================] - 12s 7ms/step - loss: 0.0169 - val_loss: 0.0162\n",
            "Epoch 3/20\n",
            "1719/1719 [==============================] - 13s 8ms/step - loss: 0.0156 - val_loss: 0.0154\n",
            "Epoch 4/20\n",
            "1719/1719 [==============================] - 13s 7ms/step - loss: 0.0149 - val_loss: 0.0151\n",
            "Epoch 5/20\n",
            "1719/1719 [==============================] - 12s 7ms/step - loss: 0.0146 - val_loss: 0.0147\n",
            "Epoch 6/20\n",
            "1719/1719 [==============================] - 13s 7ms/step - loss: 0.0144 - val_loss: 0.0144\n",
            "Epoch 7/20\n",
            "1719/1719 [==============================] - 13s 7ms/step - loss: 0.0142 - val_loss: 0.0145\n",
            "Epoch 8/20\n",
            "1719/1719 [==============================] - 13s 7ms/step - loss: 0.0141 - val_loss: 0.0142\n",
            "Epoch 9/20\n",
            "1719/1719 [==============================] - 13s 7ms/step - loss: 0.0139 - val_loss: 0.0141\n",
            "Epoch 10/20\n",
            "1719/1719 [==============================] - 12s 7ms/step - loss: 0.0139 - val_loss: 0.0140\n",
            "Epoch 11/20\n",
            "1719/1719 [==============================] - 11s 7ms/step - loss: 0.0138 - val_loss: 0.0140\n",
            "Epoch 12/20\n",
            "1719/1719 [==============================] - 11s 6ms/step - loss: 0.0137 - val_loss: 0.0138\n",
            "Epoch 13/20\n",
            "1719/1719 [==============================] - 12s 7ms/step - loss: 0.0136 - val_loss: 0.0138\n",
            "Epoch 14/20\n",
            "1719/1719 [==============================] - 12s 7ms/step - loss: 0.0136 - val_loss: 0.0137\n",
            "Epoch 15/20\n",
            "1719/1719 [==============================] - 12s 7ms/step - loss: 0.0135 - val_loss: 0.0138\n",
            "Epoch 16/20\n",
            "1719/1719 [==============================] - 12s 7ms/step - loss: 0.0135 - val_loss: 0.0137\n",
            "Epoch 17/20\n",
            "1719/1719 [==============================] - 12s 7ms/step - loss: 0.0135 - val_loss: 0.0137\n",
            "Epoch 18/20\n",
            "1719/1719 [==============================] - 12s 7ms/step - loss: 0.0134 - val_loss: 0.0137\n",
            "Epoch 19/20\n",
            "1719/1719 [==============================] - 12s 7ms/step - loss: 0.0134 - val_loss: 0.0136\n",
            "Epoch 20/20\n",
            "1719/1719 [==============================] - 14s 8ms/step - loss: 0.0134 - val_loss: 0.0135\n"
          ]
        }
      ],
      "source": [
        "#@ Implementation of stacked autoencoders using keras\n",
        "\n",
        "stacked_encoder = tf.keras.Sequential([\n",
        "    tf.keras.layers.Flatten(),\n",
        "    tf.keras.layers.Dense(100, activation=\"relu\"),\n",
        "    tf.keras.layers.Dense(30, activation=\"relu\"),\n",
        "])\n",
        "\n",
        "stacked_decoder = tf.keras.Sequential([\n",
        "    tf.keras.layers.Dense(100, activation=\"relu\"),\n",
        "    tf.keras.layers.Dense(28*28),\n",
        "    tf.keras.layers.Reshape([28,28])\n",
        "])\n",
        "\n",
        "stacked_ae = tf.keras.Sequential([stacked_encoder,stacked_decoder])\n",
        "\n",
        "stacked_ae.compile(loss=\"mse\", optimizer=\"nadam\")\n",
        "history = stacked_ae.fit(X_train, X_train ,epochs=20, validation_data=(X_valid,X_valid))"
      ]
    },
    {
      "cell_type": "code",
      "source": [
        "#@ Visualizing the result\n",
        "import numpy as np\n",
        "import matplotlib.pyplot as plt\n",
        "def plot_reconstructions(model, images=X_valid, n_images=5):\n",
        " reconstructions = np.clip(model.predict(images[:n_images]), 0, 1)\n",
        " fig = plt.figure(figsize=(n_images * 1.5, 3))\n",
        " for image_index in range(n_images):\n",
        "    plt.subplot(2, n_images, 1 + image_index)\n",
        "    plt.imshow(images[image_index], cmap=\"binary\")\n",
        "    plt.axis(\"off\")\n",
        "    plt.subplot(2, n_images, 1 + n_images + image_index)\n",
        "    plt.imshow(reconstructions[image_index], cmap=\"binary\")\n",
        "    plt.axis(\"off\")\n",
        "plot_reconstructions(stacked_ae)\n",
        "plt.show()"
      ],
      "metadata": {
        "colab": {
          "base_uri": "https://localhost:8080/",
          "height": 281
        },
        "id": "ecRmNrjDWz9U",
        "outputId": "c00f4b9d-745f-4596-c6da-7e6c74132816"
      },
      "execution_count": 9,
      "outputs": [
        {
          "output_type": "stream",
          "name": "stdout",
          "text": [
            "1/1 [==============================] - 0s 176ms/step\n"
          ]
        },
        {
          "output_type": "display_data",
          "data": {
            "text/plain": [
              "<Figure size 750x300 with 10 Axes>"
            ],
            "image/png": "[encoded data removed]"
          },
          "metadata": {}
        }
      ]
    },
    {
      "cell_type": "code",
      "source": [],
      "metadata": {
        "id": "kgRkQqJ9ZPTI"
      },
      "execution_count": null,
      "outputs": []
    }
  ]
}